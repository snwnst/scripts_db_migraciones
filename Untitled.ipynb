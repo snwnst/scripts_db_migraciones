{
 "cells": [
  {
   "cell_type": "code",
   "execution_count": 1,
   "metadata": {},
   "outputs": [],
   "source": [
    "from tqdm import tqdm\n",
    "import mysql.connector\n",
    "import psycopg2\n",
    "import datetime"
   ]
  },
  {
   "cell_type": "code",
   "execution_count": 2,
   "metadata": {},
   "outputs": [],
   "source": [
    "def create_table(table_name):\n",
    "    cratetablestr = 'CREATE TABLE {} ('.format(table_name)\n",
    "    mysql.execute(\"DESCRIBE {}.{}\".format(scheme,table_name))\n",
    "    columnsinfo = mysql.fetchall()\n",
    "    constranint = ''\n",
    "    for columinfo in columnsinfo:\n",
    "        if 'int' in str(columinfo[1]):\n",
    "            cratetablestr = '{} {} INT {},'.format(cratetablestr,columinfo[0],columinfo[2])\n",
    "        else:\n",
    "            if 'datetime' in str(columinfo[1]):\n",
    "                cratetablestr = '{} {} timestamp {},'.format(cratetablestr,columinfo[0],columinfo[2])\n",
    "            else:\n",
    "                cratetablestr = '{} {} {} {},' .format(cratetablestr,columinfo[0],columinfo[1].upper(),columinfo[2])   \n",
    "        if 'PRI' in str(columinfo[3]):\n",
    "            constranint =  '{} {},'.format(constranint,str(columinfo[0]))\n",
    "    if constranint != '':\n",
    "        constranint = '{}@'.format(constranint)\n",
    "        constranint = constranint.replace(\",@\", \"\")\n",
    "        constranint = 'CONSTRAINT PK_{} PRIMARY KEY ({})'.format(table_name,constranint)\n",
    "        cratetablestr = '{} {}'.format(cratetablestr,constranint)\n",
    "    cratetablestr = cratetablestr.replace(\"NO\", \"NOT NULL\")\n",
    "    cratetablestr = cratetablestr.replace(\"YES\", \"\")\n",
    "    cratetablestr = cratetablestr.replace(\"TINYTEXT\", \"VARCHAR(255)\")\n",
    "    cratetablestr = cratetablestr.replace(\"DOUBLE\", \"FLOAT\")\n",
    "    cratetablestr = '{});'.format(cratetablestr)\n",
    "    msqls.execute(cratetablestr)\n",
    "    msqlsconnection.commit()"
   ]
  },
  {
   "cell_type": "code",
   "execution_count": 3,
   "metadata": {},
   "outputs": [],
   "source": [
    "def insert_data(table_name):\n",
    "    mysql.execute(\"DESCRIBE {}.{}\".format(scheme,table_name))\n",
    "    columnames = mysql.fetchall()\n",
    "    query = 'INSERT INTO {} ('.format(table_name)\n",
    "    for columname in columnames:\n",
    "        query = query+columname[0]+','\n",
    "    query = query+')'\n",
    "    query = query.replace(\",)\", \")\")\n",
    "    mysql.execute(\"SELECT * FROM {}.{}\".format(scheme,table_name))\n",
    "    rows = mysql.fetchall()\n",
    "    persent_rows_table = tqdm(rows)\n",
    "    for row in persent_rows_table:\n",
    "        if 'datetime.date' in str(row):\n",
    "            for idx, subrow in enumerate(row):\n",
    "                if isinstance(subrow, datetime.date) == True:\n",
    "                    lst = list(row)\n",
    "                    lst[idx] = str(subrow)\n",
    "                    row = tuple(lst)\n",
    "        msqls.execute(query+\" VALUES \"+str(row).replace(\"None\", \"NULL\"))\n",
    "        msqlsconnection.commit()\n",
    "        persent_rows_table.set_description(\"MIGRANDO %s\" % table_name)"
   ]
  },
  {
   "cell_type": "code",
   "execution_count": 4,
   "metadata": {},
   "outputs": [],
   "source": [
    "newscheme = 'dbo'\n",
    "scheme = 'terracota'\n",
    "\n",
    "mysqlconnection = mysql.connector.connect(host='46.105.122.133',database='terracota',user='nmartinez',password='Terra2019')\n",
    "mysql = mysqlconnection.cursor()\n",
    "\n",
    "msqlsconnection = psycopg2.connect(\"host=167.172.216.50 dbname=TERRASAM user=root password=@H1lcotadmin\")\n",
    "msqls = msqlsconnection.cursor() \n",
    "\n",
    "mysql.execute(\"SELECT TABLE_NAME FROM information_schema.tables WHERE table_schema='{}'\".format(scheme))\n",
    "tablenames = mysql.fetchall()\n",
    "\n",
    "array_table_names = []\n"
   ]
  },
  {
   "cell_type": "code",
   "execution_count": 6,
   "metadata": {},
   "outputs": [
    {
     "name": "stderr",
     "output_type": "stream",
     "text": [
      "MIGRANDO cartera:  18%|█▊        | 46665/252727 [3:05:22<13:16:45,  4.31it/s]"
     ]
    },
    {
     "ename": "KeyboardInterrupt",
     "evalue": "",
     "output_type": "error",
     "traceback": [
      "\u001b[0;31m---------------------------------------------------------------------------\u001b[0m",
      "\u001b[0;31mKeyboardInterrupt\u001b[0m                         Traceback (most recent call last)",
      "\u001b[0;32m<ipython-input-6-7673e12510c2>\u001b[0m in \u001b[0;36m<module>\u001b[0;34m\u001b[0m\n\u001b[1;32m      2\u001b[0m \u001b[0;32mfor\u001b[0m \u001b[0mtablename\u001b[0m \u001b[0;32min\u001b[0m \u001b[0mtablenames\u001b[0m\u001b[0;34m:\u001b[0m\u001b[0;34m\u001b[0m\u001b[0;34m\u001b[0m\u001b[0m\n\u001b[1;32m      3\u001b[0m     \u001b[0;31m#create_table(tablename[0])\u001b[0m\u001b[0;34m\u001b[0m\u001b[0;34m\u001b[0m\u001b[0;34m\u001b[0m\u001b[0m\n\u001b[0;32m----> 4\u001b[0;31m     \u001b[0minsert_data\u001b[0m\u001b[0;34m(\u001b[0m\u001b[0mtablename\u001b[0m\u001b[0;34m[\u001b[0m\u001b[0;36m0\u001b[0m\u001b[0;34m]\u001b[0m\u001b[0;34m)\u001b[0m\u001b[0;34m\u001b[0m\u001b[0;34m\u001b[0m\u001b[0m\n\u001b[0m\u001b[1;32m      5\u001b[0m \u001b[0;34m\u001b[0m\u001b[0m\n",
      "\u001b[0;32m<ipython-input-3-a977ec9866a7>\u001b[0m in \u001b[0;36minsert_data\u001b[0;34m(table_name)\u001b[0m\n\u001b[1;32m     18\u001b[0m                     \u001b[0mrow\u001b[0m \u001b[0;34m=\u001b[0m \u001b[0mtuple\u001b[0m\u001b[0;34m(\u001b[0m\u001b[0mlst\u001b[0m\u001b[0;34m)\u001b[0m\u001b[0;34m\u001b[0m\u001b[0;34m\u001b[0m\u001b[0m\n\u001b[1;32m     19\u001b[0m         \u001b[0mmsqls\u001b[0m\u001b[0;34m.\u001b[0m\u001b[0mexecute\u001b[0m\u001b[0;34m(\u001b[0m\u001b[0mquery\u001b[0m\u001b[0;34m+\u001b[0m\u001b[0;34m\" VALUES \"\u001b[0m\u001b[0;34m+\u001b[0m\u001b[0mstr\u001b[0m\u001b[0;34m(\u001b[0m\u001b[0mrow\u001b[0m\u001b[0;34m)\u001b[0m\u001b[0;34m.\u001b[0m\u001b[0mreplace\u001b[0m\u001b[0;34m(\u001b[0m\u001b[0;34m\"None\"\u001b[0m\u001b[0;34m,\u001b[0m \u001b[0;34m\"NULL\"\u001b[0m\u001b[0;34m)\u001b[0m\u001b[0;34m)\u001b[0m\u001b[0;34m\u001b[0m\u001b[0;34m\u001b[0m\u001b[0m\n\u001b[0;32m---> 20\u001b[0;31m         \u001b[0mmsqlsconnection\u001b[0m\u001b[0;34m.\u001b[0m\u001b[0mcommit\u001b[0m\u001b[0;34m(\u001b[0m\u001b[0;34m)\u001b[0m\u001b[0;34m\u001b[0m\u001b[0;34m\u001b[0m\u001b[0m\n\u001b[0m\u001b[1;32m     21\u001b[0m         \u001b[0mpersent_rows_table\u001b[0m\u001b[0;34m.\u001b[0m\u001b[0mset_description\u001b[0m\u001b[0;34m(\u001b[0m\u001b[0;34m\"MIGRANDO %s\"\u001b[0m \u001b[0;34m%\u001b[0m \u001b[0mtable_name\u001b[0m\u001b[0;34m)\u001b[0m\u001b[0;34m\u001b[0m\u001b[0;34m\u001b[0m\u001b[0m\n",
      "\u001b[0;31mKeyboardInterrupt\u001b[0m: "
     ]
    }
   ],
   "source": [
    "import time\n",
    "for tablename in tablenames:\n",
    "    #create_table(tablename[0])\n",
    "    insert_data(tablename[0])\n",
    "\n"
   ]
  },
  {
   "cell_type": "code",
   "execution_count": null,
   "metadata": {},
   "outputs": [],
   "source": []
  }
 ],
 "metadata": {
  "kernelspec": {
   "display_name": "Python 3",
   "language": "python",
   "name": "python3"
  },
  "language_info": {
   "codemirror_mode": {
    "name": "ipython",
    "version": 3
   },
   "file_extension": ".py",
   "mimetype": "text/x-python",
   "name": "python",
   "nbconvert_exporter": "python",
   "pygments_lexer": "ipython3",
   "version": "3.7.4"
  }
 },
 "nbformat": 4,
 "nbformat_minor": 2
}
